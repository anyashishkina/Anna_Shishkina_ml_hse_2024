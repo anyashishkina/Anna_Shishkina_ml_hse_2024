{
 "cells": [
  {
   "cell_type": "markdown",
   "id": "25c0ed89-82ad-49dc-bd95-836947058882",
   "metadata": {},
   "source": [
    "# Домашнее задание\n",
    "Easy"
   ]
  },
  {
   "cell_type": "code",
   "execution_count": 1,
   "id": "55c40091-552e-44c5-82aa-4d53cdba3ab1",
   "metadata": {
    "tags": []
   },
   "outputs": [
    {
     "name": "stdout",
     "output_type": "stream",
     "text": [
      "{'mean': 3.4285714285714284, 'median': 3, 'mode': 1}\n"
     ]
    }
   ],
   "source": [
    "def func(lst):\n",
    "    mean = 0\n",
    "    median = 0\n",
    "    mode = 0\n",
    "    d = {}\n",
    "    cnt = 0\n",
    "    for i in range(len(lst)):\n",
    "        mean += lst[i]\n",
    "        if lst[i] not in d:\n",
    "            d[lst[i]] = 1\n",
    "        else:\n",
    "            d[lst[i]] += 1\n",
    "    mean /= len(lst)\n",
    "    sorted_lst = sorted(lst)\n",
    "    m = len(sorted_lst) // 2\n",
    "    if len(sorted_lst) % 2 == 0:\n",
    "        median = (sorted_lst[m] + sorted_lst[m - 1]) / 2\n",
    "    else:\n",
    "        median = sorted_lst[m]\n",
    "    mode = max(d, key=d.get)\n",
    "    return {\"mean\": mean, \"median\": median, \"mode\": mode}\n",
    "\n",
    "print(func([0, 1, 1, 10, 5, 4, 3]))"
   ]
  },
  {
   "cell_type": "markdown",
   "id": "84dc1c4d-39f4-41e0-8767-7e39fd427ac1",
   "metadata": {},
   "source": [
    "Medium"
   ]
  },
  {
   "cell_type": "code",
   "execution_count": 2,
   "id": "9ce32955-22b7-4807-9a4b-9bd3a7d1dd08",
   "metadata": {
    "tags": []
   },
   "outputs": [
    {
     "name": "stdout",
     "output_type": "stream",
     "text": [
      "npc_dota_hero_broodmother\n"
     ]
    }
   ],
   "source": [
    "from typing import List, Dict\n",
    "\n",
    "def parse_csv(file_content: str) -> List[Dict]:\n",
    "  lines = file_content.split('\\n')\n",
    "  headers = lines[0].split(',')\n",
    "  data = []\n",
    "  for line in lines[1:]:\n",
    "      if line: \n",
    "          values = line.split(',')\n",
    "          values = list(map(lambda x: x.replace(\"[\", '').replace(\"]\", '').replace('\"', '').replace(\"'\", '').replace(' ','') , values))\n",
    "          mas = values[7:]\n",
    "          entry = dict(zip(headers, values[:7]+[mas]))\n",
    "          data.append(entry)\n",
    "\n",
    "  return data\n",
    "\n",
    "def find_hero_with_max_legs(data: List[Dict]) -> Dict:\n",
    "    hero_with_max_legs = max(data, key=lambda x: int(x['legs']))\n",
    "    return hero_with_max_legs['name']\n",
    "\n",
    "with open('../data/dota_hero_stats.csv', 'r') as file:\n",
    "    content = file.read()\n",
    "\n",
    "parsed_data = parse_csv(content)\n",
    "hero_with_max_legs = find_hero_with_max_legs(parsed_data)\n",
    "print(hero_with_max_legs)"
   ]
  }
 ],
 "metadata": {
  "kernelspec": {
   "display_name": "Python 3 (ipykernel)",
   "language": "python",
   "name": "python3"
  },
  "language_info": {
   "codemirror_mode": {
    "name": "ipython",
    "version": 3
   },
   "file_extension": ".py",
   "mimetype": "text/x-python",
   "name": "python",
   "nbconvert_exporter": "python",
   "pygments_lexer": "ipython3",
   "version": "3.11.5"
  }
 },
 "nbformat": 4,
 "nbformat_minor": 5
}
